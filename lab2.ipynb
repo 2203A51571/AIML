{
  "nbformat": 4,
  "nbformat_minor": 0,
  "metadata": {
    "colab": {
      "provenance": [],
      "authorship_tag": "ABX9TyPXt9EMh98b2EuZ49Wusi2X",
      "include_colab_link": true
    },
    "kernelspec": {
      "name": "python3",
      "display_name": "Python 3"
    },
    "language_info": {
      "name": "python"
    }
  },
  "cells": [
    {
      "cell_type": "markdown",
      "metadata": {
        "id": "view-in-github",
        "colab_type": "text"
      },
      "source": [
        "<a href=\"https://colab.research.google.com/github/2203A51571/AIML/blob/main/lab2.ipynb\" target=\"_parent\"><img src=\"https://colab.research.google.com/assets/colab-badge.svg\" alt=\"Open In Colab\"/></a>"
      ]
    },
    {
      "cell_type": "markdown",
      "source": [],
      "metadata": {
        "id": "6HvfTAPxopJz"
      }
    },
    {
      "cell_type": "markdown",
      "source": [
        "# **Implement Breadth First Search Algorithm**"
      ],
      "metadata": {
        "id": "ESOE4b4eotFg"
      }
    },
    {
      "cell_type": "code",
      "source": [
        "from queue import Queue\n",
        "\n",
        "graph = {0: [1, 3], 1: [0, 2, 3], 2: [4, 1, 5], 3: [4, 0, 1], 4: [2, 3, 5], 5: [4, 2], 6: []}\n",
        "print(\"The adjacency List representing the graph is:\")\n",
        "print(graph)\n",
        "\n",
        "def bfs(graph, source):\n",
        "  Q = Queue()\n",
        "  visited_vertices = set()\n",
        "  Q.put(source)\n",
        "  visited_vertices.update({0})\n",
        "  while not Q.empty():\n",
        "   vertex = Q.get()\n",
        "  print(vertex, end=\"-->\")\n",
        "  for u in graph[vertex]:\n",
        "   if u not in visited_vertices:\n",
        "    Q.put(u)\n",
        "    visited_vertices.update({u})\n",
        "\n",
        "  print(\"BFS traversal of graph with source 0 is:\")\n",
        "  bfs(graph, 0)"
      ],
      "metadata": {
        "colab": {
          "base_uri": "https://localhost:8080/"
        },
        "id": "2p22ih6iowYr",
        "outputId": "386d7614-e751-45c5-d8d5-16583c14f2ac"
      },
      "execution_count": 42,
      "outputs": [
        {
          "output_type": "stream",
          "name": "stdout",
          "text": [
            "The adjacency List representing the graph is:\n",
            "{0: [1, 3], 1: [0, 2, 3], 2: [4, 1, 5], 3: [4, 0, 1], 4: [2, 3, 5], 5: [4, 2], 6: []}\n"
          ]
        }
      ]
    },
    {
      "cell_type": "markdown",
      "source": [
        "Implement Depth First Search **Algorithm**"
      ],
      "metadata": {
        "id": "hOf9Tcr7pYEy"
      }
    },
    {
      "cell_type": "code",
      "source": [
        "graph1 = {\n",
        "      'A' : ['B','S'],\n",
        "      'B' : ['A'],\n",
        "      'C' : ['D','E','F','S'],\n",
        "      'D' : ['C'],\n",
        "      'E' : ['C','H'],\n",
        "      'F' : ['C','G'],\n",
        "      'G' : ['F','S'],\n",
        "      'H' : ['E','G'],\n",
        "      'S' : ['A','C','G']\n",
        "     }\n",
        "\n",
        "def dfs(graph, node, visited):\n",
        "   if node not in visited:\n",
        "    visited.append(node)\n",
        "    for k in graph[node]:\n",
        "        dfs(graph,k, visited)\n",
        "   return visited\n",
        "\n",
        "visited = dfs(graph1,'D', [])\n",
        "print(visited)\n"
      ],
      "metadata": {
        "colab": {
          "base_uri": "https://localhost:8080/"
        },
        "id": "zbu0mkHvpZbT",
        "outputId": "55e0f562-5be3-4431-cfdc-1faecc7c2d5e"
      },
      "execution_count": 43,
      "outputs": [
        {
          "output_type": "stream",
          "name": "stdout",
          "text": [
            "['D', 'C', 'E', 'H', 'G', 'F', 'S', 'A', 'B']\n"
          ]
        }
      ]
    },
    {
      "cell_type": "markdown",
      "source": [
        "Implementation of A* Algorithm / OR Graph **Search**"
      ],
      "metadata": {
        "id": "5XavPhtRqJPM"
      }
    },
    {
      "cell_type": "code",
      "source": [
        "from copy import deepcopy\n",
        "import numpy as np\n",
        "import time\n",
        "\n",
        "def bestsolution(state):\n",
        "    bestsol = np.array([], int).reshape(-1, 9)\n",
        "    count = len(state) - 1\n",
        "    while count != -1:\n",
        "     bestsol = np.insert(bestsol, 0, state[count]['puzzle'], 0)\n",
        "     count = (state[count]['parent'])\n",
        "    return bestsol.reshape(-1, 3, 3)\n",
        "\n",
        "\n",
        "# checks for the uniqueness of the iteration(it).\n",
        "def all(checkarray):\n",
        "  set=[]\n",
        "  for it in set:\n",
        "     for checkarray in it:\n",
        "         return 1\n",
        "     else:\n",
        "         return 0\n",
        "\n",
        "\n",
        "# number of misplaced tiles\n",
        "def misplaced_tiles(puzzle,goal):\n",
        "  mscost = np.sum(puzzle != goal) - 1\n",
        "  return mscost  if mscost > 0 else 0\n",
        "\n",
        "\n",
        "def coordinates(puzzle):\n",
        " pos = np.array(range(9))\n",
        " for p, q in enumerate(puzzle):\n",
        "     pos[q] = p\n",
        " return pos\n",
        " # start of 8 puzzle evaluvation, using Misplaced tiles heuristics\n",
        "def evaluvate_misplaced(puzzle, goal):\n",
        " steps = np.array([('up', [0, 1, 2], -3),('down', [6, 7, 8],  3),('left', [0, 3, 6], -1),('right', [2, 5, 8],  1)],\n",
        "     dtype =  [('move',  str, 1),('position', list),('head', int)])\n",
        " dtstate = [('puzzle',  list),('parent', int),('gn',  int),('hn',  int)]\n",
        " costg = coordinates(goal)\n",
        "  # initializing the parent, gn and hn, where hn is misplaced_tiles  function call\n",
        " parent = -1\n",
        " gn = 0\n",
        " hn = misplaced_tiles(coordinates(puzzle), costg)\n",
        " state = np.array([(puzzle, parent, gn, hn)], dtstate)\n",
        " #priority queues with position as keys and fn as value.\n",
        " dtpriority = [('position', int),('fn', int)]\n",
        " priority = np.array([(0, hn)], dtpriority)\n",
        " while 1:\n",
        "  priority = np.sort(priority, kind='mergesort', order=['fn', 'position'])\n",
        "  position, fn = priority[0]\n",
        "       # sort priority queue using merge sort,the first element is picked for exploring.\n",
        " priority = np.delete(priority, 0, 0)\n",
        " puzzle, parent, gn, hn = state[position]\n",
        " puzzle = np.array(puzzle)\n",
        "\n",
        "blank = int(np.where(puzzle == 0)[0])\n",
        "\n",
        "gn = gn + 1\n",
        "c = 1\n",
        "start_time = time.time()\n",
        "for s in steps:\n",
        "    c = c + 1\n",
        "if blank not in s['position']:\n",
        "   openstates = deepcopy(puzzle)\n",
        "   openstates[blank], openstates[blank + s['head']] = openstates[blank + s['head']], openstates[blank]\n",
        "\n",
        "   if ~(np.all(list(state['puzzle']) == openstates, 1)).any():\n",
        "    end_time = time.time()\n",
        "    if (( end_time - start_time ) > 2):\n",
        "      print(\" The 8 puzzle is unsolvable \\n\")\n",
        "      break\n",
        "hn = misplaced_tiles(coordinates(openstates), costg)\n",
        " # generate and add new state in the list\n",
        "q = np.array([(openstates, position, gn, hn)], dtstate)\n",
        "state = np.append(state, q, 0)\n",
        "# f(n) is the sum of cost to reach node\n",
        "fn = gn + hn\n",
        "\n",
        "q = np.array([(len(state) - 1, fn)], dtpriority)\n",
        "priority = np.append(priority, q, 0)\n",
        "if np.array_equal(openstates, goal):\n",
        "   print(' The 8 puzzle is solvable \\n')\n",
        "   return state, len(priority)\n",
        "return state, len(priority)\n",
        "# initial state\n",
        "puzzle = []\n",
        "\n",
        "puzzle.append(2)\n",
        "puzzle.append(8)\n",
        "puzzle.append(3)\n",
        "puzzle.append(7)\n",
        "puzzle.append(1)\n",
        "puzzle.append(4)\n",
        "puzzle.append(0)\n",
        "puzzle.append(6)\n",
        "puzzle.append(5)\n",
        "\n",
        "#goal state\n",
        "goal = []\n",
        "\n",
        "goal.append(1)\n",
        "goal.append(2)\n",
        "goal.append(3)\n",
        "goal.append(8)\n",
        "goal.append(0)\n",
        "goal.append(4)\n",
        "goal.append(7)\n",
        "goal.append(6)\n",
        "goal.append(5)\n",
        "state, visited = evaluvate_misplaced(puzzle, goal)\n",
        "bestpath = bestsolution(state)\n",
        "print(str(bestpath).replace('[', ' ').replace(']', ''))\n",
        "totalmoves = len(bestpath) - 1\n",
        "print('\\nSteps to reach goal:',totalmoves)\n",
        "visit = len(state) - visited\n",
        "print('Total nodes visited: ',visit, \"\\n\")\n",
        "\n",
        "\n",
        "\n",
        "\n",
        "\n",
        "\n",
        "\n",
        "\n",
        "\n",
        "\n",
        "\n",
        "\n",
        "\n",
        "\n",
        "\n",
        "\n",
        "\n",
        "\n",
        "\n",
        "\n",
        "\n",
        "\n",
        "\n",
        "\n",
        "\n",
        "\n",
        "\n",
        "\n",
        "\n",
        "\n",
        "\n",
        "\n",
        "\n",
        ""
      ],
      "metadata": {
        "colab": {
          "base_uri": "https://localhost:8080/",
          "height": 265
        },
        "id": "iq-XQnOhqNYG",
        "outputId": "5ea87cff-3c8f-4622-8d00-0610d3ffa412"
      },
      "execution_count": 46,
      "outputs": [
        {
          "output_type": "stream",
          "name": "stderr",
          "text": [
            "<ipython-input-46-9f6abf222efa>:57: DeprecationWarning: Calling nonzero on 0d arrays is deprecated, as it behaves surprisingly. Use `atleast_1d(cond).nonzero()` if the old behavior was intended. If the context of this warning is of the form `arr[nonzero(cond)]`, just use `arr[cond]`.\n",
            "  blank = int(np.where('puzzle' == 0)[0])\n"
          ]
        },
        {
          "output_type": "error",
          "ename": "TypeError",
          "evalue": "only length-1 arrays can be converted to Python scalars",
          "traceback": [
            "\u001b[0;31m---------------------------------------------------------------------------\u001b[0m",
            "\u001b[0;31mTypeError\u001b[0m                                 Traceback (most recent call last)",
            "\u001b[0;32m<ipython-input-46-9f6abf222efa>\u001b[0m in \u001b[0;36m<cell line: 57>\u001b[0;34m()\u001b[0m\n\u001b[1;32m     55\u001b[0m  \u001b[0mpuzzle\u001b[0m \u001b[0;34m=\u001b[0m \u001b[0mnp\u001b[0m\u001b[0;34m.\u001b[0m\u001b[0marray\u001b[0m\u001b[0;34m(\u001b[0m\u001b[0mpuzzle\u001b[0m\u001b[0;34m)\u001b[0m\u001b[0;34m\u001b[0m\u001b[0;34m\u001b[0m\u001b[0m\n\u001b[1;32m     56\u001b[0m \u001b[0;34m\u001b[0m\u001b[0m\n\u001b[0;32m---> 57\u001b[0;31m \u001b[0mblank\u001b[0m \u001b[0;34m=\u001b[0m \u001b[0mint\u001b[0m\u001b[0;34m(\u001b[0m\u001b[0mnp\u001b[0m\u001b[0;34m.\u001b[0m\u001b[0mwhere\u001b[0m\u001b[0;34m(\u001b[0m\u001b[0;34m'puzzle'\u001b[0m \u001b[0;34m==\u001b[0m \u001b[0;36m0\u001b[0m\u001b[0;34m)\u001b[0m\u001b[0;34m[\u001b[0m\u001b[0;36m0\u001b[0m\u001b[0;34m]\u001b[0m\u001b[0;34m)\u001b[0m\u001b[0;34m\u001b[0m\u001b[0;34m\u001b[0m\u001b[0m\n\u001b[0m\u001b[1;32m     58\u001b[0m \u001b[0;34m\u001b[0m\u001b[0m\n\u001b[1;32m     59\u001b[0m \u001b[0mgn\u001b[0m \u001b[0;34m=\u001b[0m \u001b[0mgn\u001b[0m \u001b[0;34m+\u001b[0m \u001b[0;36m1\u001b[0m\u001b[0;34m\u001b[0m\u001b[0;34m\u001b[0m\u001b[0m\n",
            "\u001b[0;31mTypeError\u001b[0m: only length-1 arrays can be converted to Python scalars"
          ]
        }
      ]
    },
    {
      "cell_type": "markdown",
      "source": [],
      "metadata": {
        "id": "0hObucksoqmg"
      }
    }
  ]
}